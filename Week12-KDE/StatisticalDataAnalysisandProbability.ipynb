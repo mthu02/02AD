{
 "cells": [
  {
   "cell_type": "markdown",
   "id": "1b4067fd",
   "metadata": {},
   "source": [
    "Ngo Thi Minh Thu - PTDLk55"
   ]
  },
  {
   "cell_type": "markdown",
   "id": "998366bb",
   "metadata": {},
   "source": [
    "# KDE Classifier"
   ]
  },
  {
   "cell_type": "code",
   "execution_count": 42,
   "id": "bdc043af",
   "metadata": {},
   "outputs": [],
   "source": [
    "from sklearn.datasets import load_iris\n",
    "import pandas as pd\n",
    "from sklearn import metrics\n",
    "from sklearn.naive_bayes import GaussianNB\n",
    "\n",
    "# Load Data\n",
    "dataset = load_iris()"
   ]
  },
  {
   "cell_type": "code",
   "execution_count": 43,
   "id": "d65a62f3",
   "metadata": {},
   "outputs": [],
   "source": [
    "from sklearn.base import BaseEstimator, ClassifierMixin\n",
    "from sklearn.model_selection import GridSearchCV\n",
    "import numpy as np\n",
    "from sklearn.neighbors import KernelDensity\n",
    "\n",
    "class KDEClassifier(BaseEstimator, ClassifierMixin):\n",
    "    \"\"\"Bayesian generative classification based on KDE\n",
    "    \n",
    "    Parameters\n",
    "    ----------\n",
    "    bandwidth : float\n",
    "        the kernel bandwidth within each class\n",
    "    kernel : str\n",
    "        the kernel name, passed to KernelDensity\n",
    "    \"\"\"\n",
    "    def __init__(self, bandwidth=1.0, kernel='gaussian'):\n",
    "        self.bandwidth = bandwidth\n",
    "        self.kernel = kernel\n",
    "        \n",
    "    def fit(self, X, y):\n",
    "        self.classes_ = np.sort(np.unique(y))\n",
    "        training_sets = [X[y == yi] for yi in self.classes_]\n",
    "        self.models_ = [KernelDensity(bandwidth=self.bandwidth,\n",
    "                                      kernel=self.kernel).fit(Xi)\n",
    "                        for Xi in training_sets]\n",
    "        self.logpriors_ = [np.log(Xi.shape[0] / X.shape[0])\n",
    "                           for Xi in training_sets]\n",
    "        return self\n",
    "        \n",
    "    def predict_proba(self, X):\n",
    "        logprobs = np.array([model.score_samples(X) #Compute the log-likelihood of each sample under the model.\n",
    "                             for model in self.models_]).T\n",
    "        result = np.exp(logprobs + self.logpriors_)\n",
    "        return (result / result.sum(1, keepdims=True))\n",
    "        \n",
    "    def predict(self, X):\n",
    "        return self.classes_[np.argmax(self.predict_proba(X), 1)]"
   ]
  },
  {
   "cell_type": "code",
   "execution_count": 44,
   "id": "8d8c8929",
   "metadata": {},
   "outputs": [],
   "source": [
    "bandwidths = 10 ** np.linspace(-1, 1, 100)\n",
    "grid = GridSearchCV(KDEClassifier(), {'bandwidth': bandwidths})\n",
    "grid.fit(dataset.data, dataset.target)\n",
    "\n",
    "scores = grid.cv_results_['mean_test_score']\n",
    "#scores = [val.mean_validation_score for val in grid.cv_results_]"
   ]
  },
  {
   "cell_type": "code",
   "execution_count": 45,
   "id": "bad21fbe",
   "metadata": {},
   "outputs": [
    {
     "name": "stdout",
     "output_type": "stream",
     "text": [
      "{'bandwidth': 0.31992671377973836}\n",
      "accuracy = 0.9733333333333334\n"
     ]
    },
    {
     "data": {
      "image/png": "[encoded data removed]",
      "text/plain": [
       "<Figure size 432x288 with 1 Axes>"
      ]
     },
     "metadata": {
      "needs_background": "light"
     },
     "output_type": "display_data"
    }
   ],
   "source": [
    "import matplotlib.pyplot as plt\n",
    "\n",
    "plt.semilogx(bandwidths, scores)\n",
    "plt.xlabel('bandwidth')\n",
    "plt.ylabel('accuracy')\n",
    "plt.title('KDE Model Performance')\n",
    "print(grid.best_params_)\n",
    "print('accuracy =', grid.best_score_)"
   ]
  },
  {
   "cell_type": "markdown",
   "id": "8a8dcb7e",
   "metadata": {},
   "source": [
    "# Naive Bayes"
   ]
  },
  {
   "cell_type": "code",
   "execution_count": 46,
   "id": "f95884be",
   "metadata": {},
   "outputs": [
    {
     "data": {
      "text/plain": [
       "0.9533333333333334"
      ]
     },
     "execution_count": 46,
     "metadata": {},
     "output_type": "execute_result"
    }
   ],
   "source": [
    "from sklearn.naive_bayes import GaussianNB\n",
    "from sklearn.model_selection import cross_val_score\n",
    "cross_val_score(GaussianNB(), dataset.data, dataset.target).mean()"
   ]
  },
  {
   "cell_type": "markdown",
   "id": "ab5d8136",
   "metadata": {},
   "source": [
    "<h1> Statistical Data Analysis and Probability </h1>"
   ]
  },
  {
   "cell_type": "code",
   "execution_count": 47,
   "id": "db64143f",
   "metadata": {},
   "outputs": [],
   "source": [
    "import pandas as pd\n",
    "import numpy as np\n",
    "from scipy import stats\n",
    "import statsmodels.datasets\n",
    "import matplotlib.pyplot as plt\n",
    "%matplotlib inline"
   ]
  },
  {
   "cell_type": "code",
   "execution_count": 48,
   "id": "5bec4257",
   "metadata": {},
   "outputs": [
    {
     "data": {
      "text/html": [
       "<div>\n",
       "<style scoped>\n",
       "    .dataframe tbody tr th:only-of-type {\n",
       "        vertical-align: middle;\n",
       "    }\n",
       "\n",
       "    .dataframe tbody tr th {\n",
       "        vertical-align: top;\n",
       "    }\n",
       "\n",
       "    .dataframe thead th {\n",
       "        text-align: right;\n",
       "    }\n",
       "</style>\n",
       "<table border=\"1\" class=\"dataframe\">\n",
       "  <thead>\n",
       "    <tr style=\"text-align: right;\">\n",
       "      <th></th>\n",
       "      <th>rainfall_mm</th>\n",
       "    </tr>\n",
       "    <tr>\n",
       "      <th>Year_Month_Day</th>\n",
       "      <th></th>\n",
       "    </tr>\n",
       "  </thead>\n",
       "  <tbody>\n",
       "    <tr>\n",
       "      <th>1944-05-01</th>\n",
       "      <td>0.0</td>\n",
       "    </tr>\n",
       "    <tr>\n",
       "      <th>1944-05-02</th>\n",
       "      <td>0.0</td>\n",
       "    </tr>\n",
       "    <tr>\n",
       "      <th>1944-05-03</th>\n",
       "      <td>0.0</td>\n",
       "    </tr>\n",
       "    <tr>\n",
       "      <th>1944-05-04</th>\n",
       "      <td>4.3</td>\n",
       "    </tr>\n",
       "    <tr>\n",
       "      <th>1944-05-05</th>\n",
       "      <td>0.0</td>\n",
       "    </tr>\n",
       "  </tbody>\n",
       "</table>\n",
       "</div>"
      ],
      "text/plain": [
       "                rainfall_mm\n",
       "Year_Month_Day             \n",
       "1944-05-01              0.0\n",
       "1944-05-02              0.0\n",
       "1944-05-03              0.0\n",
       "1944-05-04              4.3\n",
       "1944-05-05              0.0"
      ]
     },
     "execution_count": 48,
     "metadata": {},
     "output_type": "execute_result"
    }
   ],
   "source": [
    "import csv\n",
    "weather = pd.read_csv('wa_weather_1944_till_2016.csv',\n",
    "                      parse_dates=[['Year','Month','Day']],\n",
    "                      index_col=\"Year_Month_Day\").drop(['min_temp_C','max_temp_C','daily_avg','daily_range','uv_MJ_m*m'],axis=1)\n",
    "weather.head()"
   ]
  },
  {
   "cell_type": "code",
   "execution_count": 49,
   "id": "a1d8732a",
   "metadata": {},
   "outputs": [
    {
     "data": {
      "text/plain": [
       "array([<AxesSubplot:ylabel='Frequency'>], dtype=object)"
      ]
     },
     "execution_count": 49,
     "metadata": {},
     "output_type": "execute_result"
    },
    {
     "data": {
      "image/png": "[encoded data removed]",
      "text/plain": [
       "<Figure size 864x576 with 1 Axes>"
      ]
     },
     "metadata": {
      "needs_background": "light"
     },
     "output_type": "display_data"
    }
   ],
   "source": [
    "df = weather['rainfall_mm']\n",
    "df.plot(kind='hist',subplots=True,figsize=(12,8),bins=20,title='Histogram about Rainfall (mm)')"
   ]
  },
  {
   "cell_type": "code",
   "execution_count": 50,
   "id": "f12366a2",
   "metadata": {},
   "outputs": [
    {
     "data": {
      "text/plain": [
       "array([<AxesSubplot:ylabel='Frequency'>], dtype=object)"
      ]
     },
     "execution_count": 50,
     "metadata": {},
     "output_type": "execute_result"
    },
    {
     "data": {
      "image/png": "[encoded data removed]",
      "text/plain": [
       "<Figure size 864x576 with 1 Axes>"
      ]
     },
     "metadata": {
      "needs_background": "light"
     },
     "output_type": "display_data"
    }
   ],
   "source": [
    "df_ppt = df[df>0]\n",
    "df_ppt.plot(kind='hist',subplots=True,figsize=(12,8),bins=20,title='Histogram about Rainfall > 0 mm')"
   ]
  },
  {
   "cell_type": "markdown",
   "id": "da842568",
   "metadata": {},
   "source": [
    "# Fitting data to the exponential distribution"
   ]
  },
  {
   "cell_type": "code",
   "execution_count": 51,
   "id": "08a7cd6c",
   "metadata": {},
   "outputs": [
    {
     "data": {
      "text/plain": [
       "<matplotlib.legend.Legend at 0x2ab41248df0>"
      ]
     },
     "execution_count": 51,
     "metadata": {},
     "output_type": "execute_result"
    },
    {
     "data": {
      "image/png": "[encoded data removed]",
      "text/plain": [
       "<Figure size 432x288 with 1 Axes>"
      ]
     },
     "metadata": {
      "needs_background": "light"
     },
     "output_type": "display_data"
    }
   ],
   "source": [
    "param_loc, param_scale = stats.expon.fit(df_ppt)\n",
    "xx = np.arange(0,30,0.1)\n",
    "y = stats.expon.pdf(xx, loc=param_loc, scale=param_scale)\n",
    "\n",
    "plt.hist(df_ppt,density=True,bins=40)\n",
    "plt.plot(xx,y, color='red',label=' exponential')\n",
    "plt.xlim(0,30)\n",
    "plt.xlabel('Rain mm')\n",
    "plt.ylabel('Probability')\n",
    "plt.legend(loc='upper right')"
   ]
  },
  {
   "cell_type": "code",
   "execution_count": 52,
   "id": "8953eab0",
   "metadata": {},
   "outputs": [
    {
     "name": "stdout",
     "output_type": "stream",
     "text": [
      "0.1 6.685194647201946\n"
     ]
    }
   ],
   "source": [
    "print(param_loc, param_scale)"
   ]
  },
  {
   "cell_type": "code",
   "execution_count": 53,
   "id": "ff354d8b",
   "metadata": {},
   "outputs": [],
   "source": [
    "def mean(data):\n",
    "    n = len(data)\n",
    "    mean = sum(data) / n\n",
    "    return mean"
   ]
  },
  {
   "cell_type": "code",
   "execution_count": 54,
   "id": "37c2a3a0",
   "metadata": {},
   "outputs": [
    {
     "data": {
      "text/plain": [
       "6.785194647201846"
      ]
     },
     "execution_count": 54,
     "metadata": {},
     "output_type": "execute_result"
    }
   ],
   "source": [
    "mean(df_ppt)"
   ]
  },
  {
   "cell_type": "code",
   "execution_count": 55,
   "id": "2a697382",
   "metadata": {},
   "outputs": [
    {
     "data": {
      "text/plain": [
       "6.785194647201846"
      ]
     },
     "execution_count": 55,
     "metadata": {},
     "output_type": "execute_result"
    }
   ],
   "source": [
    "df_ppt.mean()"
   ]
  },
  {
   "cell_type": "code",
   "execution_count": 56,
   "id": "21678720",
   "metadata": {},
   "outputs": [],
   "source": [
    "def variance(data):   \n",
    "    n = len(data) \n",
    "    mean = sum(data) / n\n",
    "    deviations = [(x - mean) ** 2 for x in data]\n",
    "    variance = sum(deviations) / n\n",
    "    return variance"
   ]
  },
  {
   "cell_type": "code",
   "execution_count": 57,
   "id": "2afa32ab",
   "metadata": {},
   "outputs": [],
   "source": [
    "def stdev(data):\n",
    "    import math\n",
    "    var = variance(data)\n",
    "    std_dev = math.sqrt(var)\n",
    "    return std_dev"
   ]
  },
  {
   "cell_type": "code",
   "execution_count": 58,
   "id": "87553c79",
   "metadata": {},
   "outputs": [
    {
     "data": {
      "text/plain": [
       "8.875221036201385"
      ]
     },
     "execution_count": 58,
     "metadata": {},
     "output_type": "execute_result"
    }
   ],
   "source": [
    "stdev(df_ppt)"
   ]
  },
  {
   "cell_type": "code",
   "execution_count": 59,
   "id": "82e7a5f7",
   "metadata": {},
   "outputs": [
    {
     "data": {
      "text/plain": [
       "8.875760940757422"
      ]
     },
     "execution_count": 59,
     "metadata": {},
     "output_type": "execute_result"
    }
   ],
   "source": [
    "df_ppt.std()"
   ]
  },
  {
   "cell_type": "markdown",
   "id": "1f90704f",
   "metadata": {},
   "source": [
    "# Fitting aggregated counts to the Poisson distribution"
   ]
  },
  {
   "cell_type": "code",
   "execution_count": 60,
   "id": "cd1724d6",
   "metadata": {},
   "outputs": [],
   "source": [
    "rain = pd.read_csv('wa_weather_1944_till_2016.csv')\n",
    "rain = rain[rain['Month']==12]\n",
    "df = rain[rain['rainfall_mm']>0]\n",
    "numofrainydays = df.groupby('Year').count()\n",
    "num = np.asarray(numofrainydays['Day'])"
   ]
  },
  {
   "cell_type": "code",
   "execution_count": 61,
   "id": "0d8c0dd3",
   "metadata": {},
   "outputs": [],
   "source": [
    "from scipy.optimize import minimize"
   ]
  },
  {
   "cell_type": "code",
   "execution_count": 62,
   "id": "d0ceeab7",
   "metadata": {},
   "outputs": [],
   "source": [
    "def log_likelihood(k, mu):\n",
    "    return -stats.poisson.logpmf(k, mu).sum()"
   ]
  },
  {
   "cell_type": "code",
   "execution_count": 63,
   "id": "a4ef35d7",
   "metadata": {},
   "outputs": [
    {
     "name": "stderr",
     "output_type": "stream",
     "text": [
      "C:\\Users\\ADMIN\\anaconda3\\lib\\site-packages\\scipy\\optimize\\_numdiff.py:557: RuntimeWarning: invalid value encountered in subtract\n",
      "  df = fun(x) - f0\n"
     ]
    }
   ],
   "source": [
    "smean = num.mean()\n",
    "days = np.linspace(0, 12, 13)\n",
    "params = minimize(log_likelihood, x0=smean, args=(num,))"
   ]
  },
  {
   "cell_type": "code",
   "execution_count": 64,
   "id": "2a6e8d23",
   "metadata": {},
   "outputs": [
    {
     "data": {
      "text/plain": [
       "[<matplotlib.lines.Line2D at 0x2ab411a66a0>]"
      ]
     },
     "execution_count": 64,
     "metadata": {},
     "output_type": "execute_result"
    },
    {
     "data": {
      "image/png": "[encoded data removed]",
      "text/plain": [
       "<Figure size 432x288 with 1 Axes>"
      ]
     },
     "metadata": {
      "needs_background": "light"
     },
     "output_type": "display_data"
    }
   ],
   "source": [
    "fig, ax = plt.subplots()\n",
    "plt.title('Fitting to the Poisson distribution')\n",
    "\n",
    "# Limiting the x-asis for a better plot\n",
    "plt.xlim([0, 13])\n",
    "plt.figtext(0.5, 0.7, 'mean {:.3f}'.format(smean), alpha=0.7,\n",
    "                fontsize=14)\n",
    "plt.xlabel('Rainy days in a month')\n",
    "plt.ylabel('Probability')\n",
    "ax.hist(num, density=True, label='Data',bins=12,rwidth=0.8,facecolor='blue', alpha=0.5)\n",
    "ax.plot(days, stats.poisson.pmf(days, params.x))"
   ]
  },
  {
   "cell_type": "markdown",
   "id": "95bf9c6c",
   "metadata": {},
   "source": [
    "# Fitting aggregated data to the gamma  distribution"
   ]
  },
  {
   "cell_type": "code",
   "execution_count": 65,
   "id": "10d447a6",
   "metadata": {},
   "outputs": [],
   "source": [
    "weather = pd.read_csv('wa_weather_1944_till_2016.csv').drop(['min_temp_C','max_temp_C','daily_avg','daily_range','uv_MJ_m*m'],axis=1)"
   ]
  },
  {
   "cell_type": "code",
   "execution_count": 66,
   "id": "919ffde0",
   "metadata": {},
   "outputs": [
    {
     "data": {
      "text/plain": [
       "<matplotlib.legend.Legend at 0x2ab40e83070>"
      ]
     },
     "execution_count": 66,
     "metadata": {},
     "output_type": "execute_result"
    },
    {
     "data": {
      "image/png": "[encoded data removed]",
      "text/plain": [
       "<Figure size 432x288 with 1 Axes>"
      ]
     },
     "metadata": {
      "needs_background": "light"
     },
     "output_type": "display_data"
    }
   ],
   "source": [
    "rain_Jan = weather[weather.Month==1]\n",
    "rain_Jan = rain_Jan[rain_Jan['rainfall_mm']>0.5]\n",
    "data = rain_Jan[rain_Jan['rainfall_mm']<20]['rainfall_mm']\n",
    "#plt.hist(data,bins=200)\n",
    "params = stats.gamma.fit(data)\n",
    "xx = np.arange(0.5, 20, 0.5)\n",
    "y = stats.gamma.pdf(xx,*params)\n",
    "\n",
    "fig, ax = plt.subplots()\n",
    "plt.title('Fitting to the gamma distribution')\n",
    "plt.hist(data,bins=50,density=True, histtype='stepfilled',alpha=0.2)\n",
    "plt.plot(xx,y, color='red', label='pdf')\n",
    "plt.xlabel('Rain mm')\n",
    "plt.ylabel('Probability')\n",
    "plt.xlim(0,20)\n",
    "plt.legend(loc='upper right')"
   ]
  },
  {
   "cell_type": "markdown",
   "id": "def8e62f",
   "metadata": {},
   "source": [
    "# GEV"
   ]
  },
  {
   "cell_type": "code",
   "execution_count": 73,
   "id": "20d60856",
   "metadata": {},
   "outputs": [],
   "source": [
    "rain = pd.read_csv('wa_weather_1944_till_2016.csv').groupby(['Year'])['rainfall_mm'].max()"
   ]
  },
  {
   "cell_type": "code",
   "execution_count": 78,
   "id": "8a61a098",
   "metadata": {},
   "outputs": [
    {
     "name": "stdout",
     "output_type": "stream",
     "text": [
      "Year\n",
      "1944    50.3\n",
      "1945    78.2\n",
      "1946    37.1\n",
      "1947    78.0\n",
      "1948    54.4\n",
      "        ... \n",
      "2012    32.2\n",
      "2013    42.6\n",
      "2014    47.2\n",
      "2015    40.0\n",
      "2016    36.6\n",
      "Name: rainfall_mm, Length: 73, dtype: float64\n"
     ]
    }
   ],
   "source": [
    "print(rain)"
   ]
  },
  {
   "cell_type": "code",
   "execution_count": 77,
   "id": "4d2749eb",
   "metadata": {},
   "outputs": [
    {
     "data": {
      "text/plain": [
       "(array([ 7., 35., 17.,  7.,  2.,  2.,  2.,  0.,  0.,  1.]),\n",
       " array([ 23.6 ,  34.44,  45.28,  56.12,  66.96,  77.8 ,  88.64,  99.48,\n",
       "        110.32, 121.16, 132.  ]),\n",
       " <BarContainer object of 10 artists>)"
      ]
     },
     "execution_count": 77,
     "metadata": {},
     "output_type": "execute_result"
    },
    {
     "data": {
      "image/png": "[encoded data removed]",
      "text/plain": [
       "<Figure size 432x288 with 1 Axes>"
      ]
     },
     "metadata": {
      "needs_background": "light"
     },
     "output_type": "display_data"
    }
   ],
   "source": [
    "plt.hist(rain)"
   ]
  },
  {
   "cell_type": "code",
   "execution_count": 82,
   "id": "a687498e",
   "metadata": {},
   "outputs": [
    {
     "name": "stdout",
     "output_type": "stream",
     "text": [
      "-0.14197175471785833 40.85693078397927 9.965619349222989\n"
     ]
    }
   ],
   "source": [
    "shape, loc, scale = gev.fit(rvs)\n",
    "print(shape, loc, scale)"
   ]
  },
  {
   "cell_type": "code",
   "execution_count": 96,
   "id": "339dbf19",
   "metadata": {},
   "outputs": [
    {
     "name": "stdout",
     "output_type": "stream",
     "text": [
      "-0.14197175471785833\n",
      "40.85693078397927\n",
      "9.965619349222989\n"
     ]
    },
    {
     "data": {
      "image/png": "[encoded data removed]",
      "text/plain": [
       "<Figure size 432x288 with 1 Axes>"
      ]
     },
     "metadata": {
      "needs_background": "light"
     },
     "output_type": "display_data"
    }
   ],
   "source": [
    "from scipy.stats import genextreme as gev\n",
    "def main(rvs):\n",
    "    shape, loc, scale = gev.fit(rvs)\n",
    "    return shape, loc, scale\n",
    "\n",
    "if __name__ == '__main__':\n",
    "    rvs = rain\n",
    "\n",
    "    shape, loc, scale = main(rvs)\n",
    "\n",
    "    print(shape)\n",
    "    print(loc)\n",
    "    print(scale)\n",
    "\n",
    "    xx = np.linspace(20, 130, num=90)\n",
    "    yy = gev.pdf(xx, shape, loc, scale)\n",
    "\n",
    "    plt.hist(rvs, density=True)\n",
    "    plt.plot(xx, yy, 'ro')\n",
    "    plt.show()"
   ]
  },
  {
   "cell_type": "code",
   "execution_count": null,
   "id": "e92a062e",
   "metadata": {},
   "outputs": [],
   "source": []
  }
 ],
 "metadata": {
  "kernelspec": {
   "display_name": "Python 3 (ipykernel)",
   "language": "python",
   "name": "python3"
  },
  "language_info": {
   "codemirror_mode": {
    "name": "ipython",
    "version": 3
   },
   "file_extension": ".py",
   "mimetype": "text/x-python",
   "name": "python",
   "nbconvert_exporter": "python",
   "pygments_lexer": "ipython3",
   "version": "3.8.5"
  }
 },
 "nbformat": 4,
 "nbformat_minor": 5
}
