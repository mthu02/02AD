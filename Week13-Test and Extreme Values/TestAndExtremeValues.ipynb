{
 "cells": [
  {
   "cell_type": "code",
   "execution_count": 2,
   "id": "93e10abb",
   "metadata": {},
   "outputs": [],
   "source": [
    "data = [36, 18, 91, 89, 87, 86, 52, 50, 149, 120, 119, 118, 115, 114, 114, 108, 102, 189, 178, 173,\n",
    "167, 167, 166, 165, 160, 216, 212, 209, 292, 279, 278, 273, 341, 382, 380, 367, 355, 446,\n",
    "432, 421, 421, 474, 463, 455, 546, 545, 505, 590, 576, 569, 641, 638, 637, 634, 621, 608,\n",
    "607, 603, 688, 685, 663, 650, 735, 725]"
   ]
  },
  {
   "cell_type": "code",
   "execution_count": 3,
   "id": "90de01df",
   "metadata": {},
   "outputs": [
    {
     "name": "stderr",
     "output_type": "stream",
     "text": [
      "C:\\Users\\ADMIN\\anaconda3\\lib\\site-packages\\scipy\\__init__.py:146: UserWarning: A NumPy version >=1.16.5 and <1.23.0 is required for this version of SciPy (detected version 1.23.5\n",
      "  warnings.warn(f\"A NumPy version >={np_minversion} and <{np_maxversion}\"\n"
     ]
    },
    {
     "data": {
      "image/png": "[encoded data removed]",
      "text/plain": [
       "<Figure size 432x288 with 1 Axes>"
      ]
     },
     "metadata": {
      "needs_background": "light"
     },
     "output_type": "display_data"
    }
   ],
   "source": [
    "from scipy import stats\n",
    "import numpy as np\n",
    "import matplotlib.pyplot as plt\n",
    "ax1 = plt.plot()\n",
    "res = stats.probplot(data, plot=plt)"
   ]
  },
  {
   "cell_type": "markdown",
   "id": "5df0d4bb",
   "metadata": {},
   "source": [
    "Bởi vì các điểm dữ liệu trên phân phối xác suất chuẩn không tuân thủ tốt với một đường thẳng. Điều này cho thấy rằng thời gian sống sót không tuân theo phân phối chuẩn. Chúng ta có một mẫu lớn (n=64)  do đó, chúng ta có thể sử dụng t-interval cho giá trị trung bình."
   ]
  },
  {
   "cell_type": "code",
   "execution_count": 4,
   "id": "651f4f61",
   "metadata": {},
   "outputs": [
    {
     "name": "stdout",
     "output_type": "stream",
     "text": [
      "Sample size = 64, mean = 345.23, sample std deviation = 222.20, std error of the mean = 27.77\n"
     ]
    }
   ],
   "source": [
    "# Sample size\n",
    "n = len(data)\n",
    "# Mean\n",
    "x_bar = np.mean(data)\n",
    "# Sample standard deviation\n",
    "s = np.std(data, ddof=1)\n",
    "# Standard error of the mean\n",
    "sem = s / np.sqrt(n)\n",
    "\n",
    "print(f'Sample size = {n}, mean = {x_bar:.2f}, sample std deviation = {s:.2f}, std error of the mean = {sem:.2f}')"
   ]
  },
  {
   "cell_type": "code",
   "execution_count": 5,
   "id": "227a12dd",
   "metadata": {},
   "outputs": [
    {
     "name": "stdout",
     "output_type": "stream",
     "text": [
      "Sample mean = 345.23, 95% CI [289.73, 400.74]\n"
     ]
    }
   ],
   "source": [
    "# Confidence level\n",
    "alpha = 0.05  # 95% confidence\n",
    "# Degrees of freedom\n",
    "dof = n - 1\n",
    "# Percent-point function (aka quantile function) of the t-distribution\n",
    "t = stats.t.ppf(1 - (alpha / 2), dof)\n",
    "# Margin of error\n",
    "d = t * sem\n",
    "# Intervals\n",
    "upper_ci = x_bar + d\n",
    "lower_ci = x_bar - d\n",
    "\n",
    "print(f'Sample mean = {x_bar:.2f}, 95% CI [{lower_ci:.2f}, {upper_ci:.2f}]')"
   ]
  },
  {
   "cell_type": "markdown",
   "id": "736c1230",
   "metadata": {},
   "source": [
    "Có nghĩa là, với độ tin cậy 95% rằng thời gian sống sót trung bình của quần thể chuột lang là từ 289,7 đến 400,7 ngày."
   ]
  },
  {
   "cell_type": "markdown",
   "id": "3b1d8cd8",
   "metadata": {},
   "source": [
    "### Calculate the confidence interval of mean of sepal length in Iris dataset"
   ]
  },
  {
   "cell_type": "code",
   "execution_count": 6,
   "id": "2c51f780",
   "metadata": {},
   "outputs": [],
   "source": [
    "from sklearn import datasets\n",
    "iris = datasets.load_iris()\n",
    "X = iris.data[:, 0]"
   ]
  },
  {
   "cell_type": "code",
   "execution_count": 7,
   "id": "0c602dce",
   "metadata": {},
   "outputs": [
    {
     "name": "stdout",
     "output_type": "stream",
     "text": [
      "Sample size = 150, mean = 5.84, sample std deviation = 0.83, std error of the mean = 0.07\n"
     ]
    }
   ],
   "source": [
    "# Sample size\n",
    "n = len(X)\n",
    "# Mean\n",
    "x_bar = np.mean(X)\n",
    "# Sample standard deviation\n",
    "s = np.std(X, ddof=1)\n",
    "# Standard error of the mean\n",
    "sem = s / np.sqrt(n)\n",
    "\n",
    "print(f'Sample size = {n}, mean = {x_bar:.2f}, sample std deviation = {s:.2f}, std error of the mean = {sem:.2f}')"
   ]
  },
  {
   "cell_type": "markdown",
   "id": "c2702154",
   "metadata": {},
   "source": [
    "#### T-interval"
   ]
  },
  {
   "cell_type": "code",
   "execution_count": 8,
   "id": "1cd3f70d",
   "metadata": {},
   "outputs": [
    {
     "name": "stdout",
     "output_type": "stream",
     "text": [
      "Sample mean = 5.84, 95% CI [5.71, 5.98]\n"
     ]
    }
   ],
   "source": [
    "# Confidence level\n",
    "alpha = 0.05  # 95% confidence\n",
    "# Degrees of freedom\n",
    "dof = n - 1\n",
    "# Percent-point function (aka quantile function) of the t-distribution\n",
    "t = stats.t.ppf(1 - (alpha / 2), dof)\n",
    "# Margin of error\n",
    "d = t * sem\n",
    "# Intervals\n",
    "upper_ci = x_bar + d\n",
    "lower_ci = x_bar - d\n",
    "\n",
    "print(f'Sample mean = {x_bar:.2f}, 95% CI [{lower_ci:.2f}, {upper_ci:.2f}]')"
   ]
  },
  {
   "cell_type": "markdown",
   "id": "4cf69761",
   "metadata": {},
   "source": [
    "#### Z-interval\n"
   ]
  },
  {
   "cell_type": "code",
   "execution_count": 9,
   "id": "795c19bb",
   "metadata": {},
   "outputs": [
    {
     "data": {
      "text/plain": [
       "(5.710817588579892, 5.9758490780867755)"
      ]
     },
     "execution_count": 9,
     "metadata": {},
     "output_type": "execute_result"
    }
   ],
   "source": [
    "stats.norm.interval(alpha=0.95, loc=np.mean(X), scale=stats.sem(X))"
   ]
  },
  {
   "cell_type": "code",
   "execution_count": 10,
   "id": "5761f34c",
   "metadata": {},
   "outputs": [
    {
     "name": "stdout",
     "output_type": "stream",
     "text": [
      "Sample mean = 5.84, 95% CI [5.71, 5.98]\n"
     ]
    }
   ],
   "source": [
    "z = stats.norm.ppf(1 - (alpha / 2))\n",
    "d = z * sem\n",
    "# Intervals\n",
    "upper_ci = x_bar + d\n",
    "lower_ci = x_bar - d\n",
    "print(f'Sample mean = {x_bar:.2f}, 95% CI [{lower_ci:.2f}, {upper_ci:.2f}]')"
   ]
  },
  {
   "cell_type": "markdown",
   "id": "1eb5320d",
   "metadata": {},
   "source": [
    "### Extreme Values"
   ]
  },
  {
   "cell_type": "code",
   "execution_count": 11,
   "id": "a5bf6cd1",
   "metadata": {},
   "outputs": [],
   "source": [
    "from scipy.stats.distributions import genextreme\n",
    "import seaborn as sns"
   ]
  },
  {
   "cell_type": "code",
   "execution_count": 12,
   "id": "5672c1e9",
   "metadata": {},
   "outputs": [],
   "source": [
    "X = iris.data[:, 1]\n",
    "limit = np.percentile(X, 95)\n",
    "X = X[X>limit]"
   ]
  },
  {
   "cell_type": "code",
   "execution_count": 13,
   "id": "425dc4a3",
   "metadata": {},
   "outputs": [],
   "source": [
    "shape, loc, scale = genextreme.fit(X)"
   ]
  },
  {
   "cell_type": "code",
   "execution_count": 14,
   "id": "0ca27243",
   "metadata": {},
   "outputs": [],
   "source": [
    "xx = np.arange(3.5,5.5,0.5)"
   ]
  },
  {
   "cell_type": "code",
   "execution_count": 15,
   "id": "ec93660b",
   "metadata": {},
   "outputs": [
    {
     "data": {
      "text/plain": [
       "[(3.9, 4.4)]"
      ]
     },
     "execution_count": 15,
     "metadata": {},
     "output_type": "execute_result"
    },
    {
     "data": {
      "image/png": "[encoded data removed]",
      "text/plain": [
       "<Figure size 432x288 with 1 Axes>"
      ]
     },
     "metadata": {
      "needs_background": "light"
     },
     "output_type": "display_data"
    }
   ],
   "source": [
    "pdf = genextreme.pdf(xx, shape, loc, scale)\n",
    "g = sns.histplot(X,stat='probability')\n",
    "g=sns.lineplot(x=xx,y=pdf)\n",
    "g.set(xlim=(3.9,4.4))"
   ]
  },
  {
   "cell_type": "code",
   "execution_count": 16,
   "id": "c1ae14b3",
   "metadata": {},
   "outputs": [
    {
     "name": "stdout",
     "output_type": "stream",
     "text": [
      "-0.21988720690114583\n",
      "12.749730029827154\n",
      "3.448963234019624\n"
     ]
    },
    {
     "data": {
      "image/png": "[encoded data removed]",
      "text/plain": [
       "<Figure size 432x288 with 1 Axes>"
      ]
     },
     "metadata": {
      "needs_background": "light"
     },
     "output_type": "display_data"
    }
   ],
   "source": [
    "import numpy as np\n",
    "import matplotlib.pyplot as plt\n",
    "from scipy.stats import genextreme as gev\n",
    "\n",
    "def main(rvs):\n",
    "    shape, loc, scale = gev.fit(rvs)\n",
    "    return shape, loc, scale\n",
    "\n",
    "if __name__ == '__main__':\n",
    "    rvs = [9.4, 38.0, 12.5, 35.3, 17.6, 12.9, 12.4, 19.6, 15.0, 13.2, 12.3, 16.9, 16.9, 29.4, 13.6, 11.1, 8.0, 16.6, 12.0, 13.1, 9.1, 9.7, 21.0, 11.2, 14.4, 18.8, 14.0, 19.9, 12.4, 10.8, 21.6, 15.4, 17.4, 14.8, 22.7, 11.5, 10.5, 11.8, 12.4, 16.6, 11.7, 12.9, 17.8]\n",
    "\n",
    "    shape, loc, scale = main(rvs)\n",
    "\n",
    "    print(shape)\n",
    "    print(loc)\n",
    "    print(scale)\n",
    "\n",
    "    l = loc + scale / shape\n",
    "\n",
    "    xx = np.linspace(l+0.00001, l+0.00001+35, num=71)\n",
    "    yy = gev.pdf(xx, shape, loc, scale)\n",
    "\n",
    "    hist, bins = np.histogram(rvs, bins=12, range=(-0.5, 23.5), density=True)\n",
    "    plt.bar(bins[:-1], hist, width = 2, align='edge')\n",
    "\n",
    "    plt.plot(xx, yy, 'ro')\n",
    "    plt.show()"
   ]
  },
  {
   "cell_type": "markdown",
   "id": "296e5d73",
   "metadata": {},
   "source": [
    "#### z-score"
   ]
  },
  {
   "cell_type": "code",
   "execution_count": 17,
   "id": "57eb20e6",
   "metadata": {},
   "outputs": [
    {
     "data": {
      "text/plain": [
       "array([3.09077525])"
      ]
     },
     "execution_count": 17,
     "metadata": {},
     "output_type": "execute_result"
    }
   ],
   "source": [
    "extremevalue = stats.zscore(iris.data[:, 1])\n",
    "extremevalue[extremevalue>3]"
   ]
  },
  {
   "cell_type": "markdown",
   "id": "b25bc5e4",
   "metadata": {},
   "source": [
    "#### IQR"
   ]
  },
  {
   "cell_type": "code",
   "execution_count": 18,
   "id": "90c14735",
   "metadata": {},
   "outputs": [],
   "source": [
    "X = iris.data[:, 1]"
   ]
  },
  {
   "cell_type": "code",
   "execution_count": 29,
   "id": "4e89328b",
   "metadata": {},
   "outputs": [],
   "source": [
    "import numpy as np\n",
    "Q1 = np.percentile(X, 25)\n",
    "Q2 = np.percentile(X, 50)\n",
    "Q3 = np.percentile(X, 75)\n",
    "\n",
    "IQR = Q3 - Q1\n",
    "low_lim = Q1 - 1.5 * IQR\n",
    "up_lim = Q3 + 1.5 * IQR"
   ]
  },
  {
   "cell_type": "code",
   "execution_count": 30,
   "id": "2a83c737",
   "metadata": {},
   "outputs": [
    {
     "name": "stdout",
     "output_type": "stream",
     "text": [
      "low_limit is 2.05\n",
      "up_limit is 4.05\n"
     ]
    }
   ],
   "source": [
    "print('low_limit is', low_lim)\n",
    "print('up_limit is', up_lim)"
   ]
  },
  {
   "cell_type": "code",
   "execution_count": 33,
   "id": "8302ce52",
   "metadata": {},
   "outputs": [],
   "source": [
    "extremevalue_head = X[X<low_lim]\n",
    "extremevalue_tail = X[X>up_lim]"
   ]
  },
  {
   "cell_type": "code",
   "execution_count": 34,
   "id": "47da7e3d",
   "metadata": {},
   "outputs": [
    {
     "name": "stdout",
     "output_type": "stream",
     "text": [
      "[2.]\n",
      "[4.4 4.1 4.2]\n"
     ]
    }
   ],
   "source": [
    "print(extremevalue_head)\n",
    "print(extremevalue_tail)"
   ]
  },
  {
   "cell_type": "code",
   "execution_count": null,
   "id": "dddc823c",
   "metadata": {},
   "outputs": [],
   "source": []
  }
 ],
 "metadata": {
  "kernelspec": {
   "display_name": "Python 3 (ipykernel)",
   "language": "python",
   "name": "python3"
  },
  "language_info": {
   "codemirror_mode": {
    "name": "ipython",
    "version": 3
   },
   "file_extension": ".py",
   "mimetype": "text/x-python",
   "name": "python",
   "nbconvert_exporter": "python",
   "pygments_lexer": "ipython3",
   "version": "3.8.5"
  }
 },
 "nbformat": 4,
 "nbformat_minor": 5
}
